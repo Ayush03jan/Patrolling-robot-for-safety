{
  "nbformat": 4,
  "nbformat_minor": 0,
  "metadata": {
    "colab": {
      "provenance": []
    },
    "kernelspec": {
      "name": "python3",
      "display_name": "Python 3"
    },
    "language_info": {
      "name": "python"
    }
  },
  "cells": [
    {
      "cell_type": "code",
      "source": [
        "L = [1, 2, 3]\n",
        "it = iter(L)\n",
        "it\n"
      ],
      "metadata": {
        "colab": {
          "base_uri": "https://localhost:8080/"
        },
        "id": "sXCmoX1faPfo",
        "outputId": "aa791876-8cc0-41de-998b-262ee9837381"
      },
      "execution_count": 3,
      "outputs": [
        {
          "output_type": "execute_result",
          "data": {
            "text/plain": [
              "<list_iterator at 0x7e141e14acb0>"
            ]
          },
          "metadata": {},
          "execution_count": 3
        }
      ]
    },
    {
      "cell_type": "code",
      "source": [
        "T= [5, 7, 9]\n",
        "LT = iter(T)\n",
        "LT"
      ],
      "metadata": {
        "colab": {
          "base_uri": "https://localhost:8080/"
        },
        "id": "WlP705aMKqiw",
        "outputId": "62d26c7e-26fa-4289-da9e-21c6db3e0d03"
      },
      "execution_count": 4,
      "outputs": [
        {
          "output_type": "execute_result",
          "data": {
            "text/plain": [
              "<list_iterator at 0x7e141e14a830>"
            ]
          },
          "metadata": {},
          "execution_count": 4
        }
      ]
    },
    {
      "cell_type": "code",
      "source": [
        "L = [1, 2, 3]"
      ],
      "metadata": {
        "id": "wPU8iLXDWdil"
      },
      "execution_count": 5,
      "outputs": []
    },
    {
      "cell_type": "code",
      "source": [
        "type(L)"
      ],
      "metadata": {
        "colab": {
          "base_uri": "https://localhost:8080/"
        },
        "id": "I8uq82t2Wk5o",
        "outputId": "58380ec4-7706-46f8-b192-feec8b5dbfb3"
      },
      "execution_count": 6,
      "outputs": [
        {
          "output_type": "execute_result",
          "data": {
            "text/plain": [
              "list"
            ]
          },
          "metadata": {},
          "execution_count": 6
        }
      ]
    },
    {
      "cell_type": "code",
      "source": [
        "it = iter(L)"
      ],
      "metadata": {
        "id": "IVm6r_fvW5VQ"
      },
      "execution_count": 60,
      "outputs": []
    },
    {
      "cell_type": "code",
      "source": [
        "next(it)"
      ],
      "metadata": {
        "colab": {
          "base_uri": "https://localhost:8080/"
        },
        "id": "gldNs8dNZS7v",
        "outputId": "81733ac8-0630-45e9-d78f-d1e0b98db9d5"
      },
      "execution_count": 8,
      "outputs": [
        {
          "output_type": "execute_result",
          "data": {
            "text/plain": [
              "1"
            ]
          },
          "metadata": {},
          "execution_count": 8
        }
      ]
    },
    {
      "cell_type": "code",
      "source": [
        "it.__next__()"
      ],
      "metadata": {
        "colab": {
          "base_uri": "https://localhost:8080/"
        },
        "id": "lgdzGFwZbJe0",
        "outputId": "4fdd988a-d0c7-4284-f853-d18e88d83ef5"
      },
      "execution_count": 9,
      "outputs": [
        {
          "output_type": "execute_result",
          "data": {
            "text/plain": [
              "2"
            ]
          },
          "metadata": {},
          "execution_count": 9
        }
      ]
    },
    {
      "cell_type": "code",
      "source": [
        "next(it)"
      ],
      "metadata": {
        "id": "aNZmQrGrbXbD",
        "colab": {
          "base_uri": "https://localhost:8080/"
        },
        "outputId": "06b17a1f-cbcf-4905-c5cd-cec542a94d10"
      },
      "execution_count": 10,
      "outputs": [
        {
          "output_type": "execute_result",
          "data": {
            "text/plain": [
              "3"
            ]
          },
          "metadata": {},
          "execution_count": 10
        }
      ]
    },
    {
      "cell_type": "code",
      "source": [
        "for i in iter(L):\n",
        "  print(i)"
      ],
      "metadata": {
        "colab": {
          "base_uri": "https://localhost:8080/"
        },
        "id": "A8IpyVA4bcbY",
        "outputId": "d92418ec-6d4d-43c7-a8b5-53b9599a97a4"
      },
      "execution_count": 12,
      "outputs": [
        {
          "output_type": "stream",
          "name": "stdout",
          "text": [
            "1\n",
            "2\n",
            "3\n"
          ]
        }
      ]
    },
    {
      "cell_type": "code",
      "source": [
        "for i in L:\n",
        "  print(i)\n"
      ],
      "metadata": {
        "colab": {
          "base_uri": "https://localhost:8080/"
        },
        "id": "kXI0VAWXbfTe",
        "outputId": "a648e4a8-d57e-4b05-fc8b-90da68d51570"
      },
      "execution_count": 13,
      "outputs": [
        {
          "output_type": "stream",
          "name": "stdout",
          "text": [
            "1\n",
            "2\n",
            "3\n"
          ]
        }
      ]
    },
    {
      "cell_type": "code",
      "source": [
        "L = [1, 2, 3]\n",
        "iterator = iter(L)\n",
        "t = tuple(iterator)\n",
        "type(t)"
      ],
      "metadata": {
        "colab": {
          "base_uri": "https://localhost:8080/"
        },
        "id": "4lAAQsircvnm",
        "outputId": "955eafa2-4e4a-4f3f-84c6-e292423cd093"
      },
      "execution_count": 14,
      "outputs": [
        {
          "output_type": "execute_result",
          "data": {
            "text/plain": [
              "tuple"
            ]
          },
          "metadata": {},
          "execution_count": 14
        }
      ]
    },
    {
      "cell_type": "code",
      "source": [
        "m = {'Jan': 1, 'Feb': 2, 'Mar': 3, 'Apr': 4, 'May': 5, 'Jun': 6, 'Jul': 7, 'Aug': 8, 'Sep': 9, 'Oct': 10, 'Nov': 11, 'Dec': 12}\n",
        "for key in m:\n",
        "  print(key, m[key])"
      ],
      "metadata": {
        "id": "kOB89QtReDpE",
        "colab": {
          "base_uri": "https://localhost:8080/"
        },
        "outputId": "4164739f-6539-4304-f8c9-c68ddc9752a4"
      },
      "execution_count": 16,
      "outputs": [
        {
          "output_type": "stream",
          "name": "stdout",
          "text": [
            "Jan 1\n",
            "Feb 2\n",
            "Mar 3\n",
            "Apr 4\n",
            "May 5\n",
            "Jun 6\n",
            "Jul 7\n",
            "Aug 8\n",
            "Sep 9\n",
            "Oct 10\n",
            "Nov 11\n",
            "Dec 12\n"
          ]
        }
      ]
    },
    {
      "cell_type": "code",
      "source": [
        "l=[1,2,3]\n",
        "[2*i for i in l]"
      ],
      "metadata": {
        "id": "j5jVuOLIqzOt",
        "colab": {
          "base_uri": "https://localhost:8080/"
        },
        "outputId": "e317365c-edb3-4775-8913-d3935cb92937"
      },
      "execution_count": 17,
      "outputs": [
        {
          "output_type": "execute_result",
          "data": {
            "text/plain": [
              "[2, 4, 6]"
            ]
          },
          "metadata": {},
          "execution_count": 17
        }
      ]
    },
    {
      "cell_type": "code",
      "source": [
        "l=[1,2,3]\n",
        "for i in l:\n",
        "  x=2*i\n",
        "  print(x)\n"
      ],
      "metadata": {
        "id": "b2KWtoHQBc2r",
        "colab": {
          "base_uri": "https://localhost:8080/"
        },
        "outputId": "a930a82e-1db9-4308-d1c0-6ad09ac6a05b"
      },
      "execution_count": 18,
      "outputs": [
        {
          "output_type": "stream",
          "name": "stdout",
          "text": [
            "2\n",
            "4\n",
            "6\n"
          ]
        }
      ]
    },
    {
      "cell_type": "code",
      "source": [
        "[2*i for i in l]"
      ],
      "metadata": {
        "id": "1AOF9Xg8BrvW",
        "colab": {
          "base_uri": "https://localhost:8080/"
        },
        "outputId": "ef5bd79b-8507-479e-c8c7-41710c37ed13"
      },
      "execution_count": 19,
      "outputs": [
        {
          "output_type": "execute_result",
          "data": {
            "text/plain": [
              "[2, 4, 6]"
            ]
          },
          "metadata": {},
          "execution_count": 19
        }
      ]
    },
    {
      "cell_type": "code",
      "source": [
        "L = [('Italy', 'Rome'), ('France', 'Paris'), ('US', 'Washington DC')]\n",
        "type(L)"
      ],
      "metadata": {
        "id": "s9ce_Rmtd1PO",
        "colab": {
          "base_uri": "https://localhost:8080/"
        },
        "outputId": "09a9cb5b-b71f-41ca-aa15-38d494ffd579"
      },
      "execution_count": 20,
      "outputs": [
        {
          "output_type": "execute_result",
          "data": {
            "text/plain": [
              "list"
            ]
          },
          "metadata": {},
          "execution_count": 20
        }
      ]
    },
    {
      "cell_type": "code",
      "source": [
        "t=dict(iter(L))\n",
        "type(t)"
      ],
      "metadata": {
        "colab": {
          "base_uri": "https://localhost:8080/"
        },
        "id": "1PmRSauFVE0R",
        "outputId": "8edcf062-a43c-4be8-bd0b-7aa54ccbb5e8"
      },
      "execution_count": 21,
      "outputs": [
        {
          "output_type": "execute_result",
          "data": {
            "text/plain": [
              "dict"
            ]
          },
          "metadata": {},
          "execution_count": 21
        }
      ]
    },
    {
      "cell_type": "code",
      "source": [
        "line_list = ['  Presidency University\\n', ' Computer Science Department\\n', ' Dept Of CSE \\n', '  \\n']\n",
        "\n",
        "stripped_iter = (line.strip() for line in line_list)\n",
        "stripped_iter"
      ],
      "metadata": {
        "id": "5a85PdRDgaK7",
        "colab": {
          "base_uri": "https://localhost:8080/"
        },
        "outputId": "7f9dfd49-1748-4cc7-8911-dee632cc335a"
      },
      "execution_count": 22,
      "outputs": [
        {
          "output_type": "execute_result",
          "data": {
            "text/plain": [
              "<generator object <genexpr> at 0x7e1402f83bc0>"
            ]
          },
          "metadata": {},
          "execution_count": 22
        }
      ]
    },
    {
      "cell_type": "code",
      "source": [
        "print(stripped_iter)"
      ],
      "metadata": {
        "colab": {
          "base_uri": "https://localhost:8080/"
        },
        "id": "dHQrQ3DeWe_a",
        "outputId": "d50b8f89-939f-47ac-a626-acc0c212ab85"
      },
      "execution_count": 23,
      "outputs": [
        {
          "output_type": "stream",
          "name": "stdout",
          "text": [
            "<generator object <genexpr> at 0x7e1402f83bc0>\n"
          ]
        }
      ]
    },
    {
      "cell_type": "code",
      "source": [
        "# List comprehension -- returns list\n",
        "stripped_list = [line.strip() for line in line_list]\n",
        "print(stripped_list)"
      ],
      "metadata": {
        "id": "uhtv9oGCh5Zq",
        "colab": {
          "base_uri": "https://localhost:8080/"
        },
        "outputId": "2c77683d-0de5-4105-e1ef-6e742b54a119"
      },
      "execution_count": 24,
      "outputs": [
        {
          "output_type": "stream",
          "name": "stdout",
          "text": [
            "['Presidency University', 'Computer Science Department', 'Dept Of CSE', '']\n"
          ]
        }
      ]
    },
    {
      "cell_type": "code",
      "source": [],
      "metadata": {
        "id": "I9lvMqKrWdt6"
      },
      "execution_count": 24,
      "outputs": []
    },
    {
      "cell_type": "code",
      "source": [
        "#You can select only certain elements by adding an \"if\" condition:\n",
        "stripped_list = [line.strip() for line in line_list if line != \" \"]\n",
        "print(stripped_list)"
      ],
      "metadata": {
        "id": "oeFnKnmAh6CN",
        "colab": {
          "base_uri": "https://localhost:8080/"
        },
        "outputId": "6c9ed997-0120-4126-f721-e2d90110f61d"
      },
      "execution_count": 25,
      "outputs": [
        {
          "output_type": "stream",
          "name": "stdout",
          "text": [
            "['Presidency University', 'Computer Science Department', 'Dept Of CSE', '']\n"
          ]
        }
      ]
    },
    {
      "cell_type": "code",
      "source": [
        "seq1 = 'abc'\n",
        "seq2 = (1, 2, 3)\n",
        "[(x, y) for x in seq1 for y in seq2]"
      ],
      "metadata": {
        "id": "BPEXl0ADk384",
        "colab": {
          "base_uri": "https://localhost:8080/"
        },
        "outputId": "66776179-f8ba-42a4-8394-c8daf132cf28"
      },
      "execution_count": 26,
      "outputs": [
        {
          "output_type": "execute_result",
          "data": {
            "text/plain": [
              "[('a', 1),\n",
              " ('a', 2),\n",
              " ('a', 3),\n",
              " ('b', 1),\n",
              " ('b', 2),\n",
              " ('b', 3),\n",
              " ('c', 1),\n",
              " ('c', 2),\n",
              " ('c', 3)]"
            ]
          },
          "metadata": {},
          "execution_count": 26
        }
      ]
    },
    {
      "cell_type": "code",
      "source": [
        "def generate_ints(N):\n",
        "  for i in range(N):\n",
        "    yield i\n",
        "\n",
        "\n",
        "gen=generate_ints(8)\n",
        "next(gen)"
      ],
      "metadata": {
        "id": "qP-Sdf2OqfWe",
        "colab": {
          "base_uri": "https://localhost:8080/"
        },
        "outputId": "cb1fcdaf-648c-422b-f95d-6bdf287886d8"
      },
      "execution_count": 27,
      "outputs": [
        {
          "output_type": "execute_result",
          "data": {
            "text/plain": [
              "0"
            ]
          },
          "metadata": {},
          "execution_count": 27
        }
      ]
    },
    {
      "cell_type": "code",
      "source": [
        "next(gen)"
      ],
      "metadata": {
        "id": "5P80WJsRybT3",
        "colab": {
          "base_uri": "https://localhost:8080/"
        },
        "outputId": "f48c3516-0980-45df-e50c-dec0da8377e0"
      },
      "execution_count": 28,
      "outputs": [
        {
          "output_type": "execute_result",
          "data": {
            "text/plain": [
              "1"
            ]
          },
          "metadata": {},
          "execution_count": 28
        }
      ]
    },
    {
      "cell_type": "code",
      "source": [
        "next(gen)"
      ],
      "metadata": {
        "id": "v4E5uPGmzYKP",
        "colab": {
          "base_uri": "https://localhost:8080/"
        },
        "outputId": "dc4ba49b-65fd-4ed1-dcf8-caf456eaa551"
      },
      "execution_count": 53,
      "outputs": [
        {
          "output_type": "execute_result",
          "data": {
            "text/plain": [
              "4"
            ]
          },
          "metadata": {},
          "execution_count": 53
        }
      ]
    },
    {
      "cell_type": "code",
      "source": [
        "next(gen)"
      ],
      "metadata": {
        "id": "Bhvjv6r8yh4E",
        "colab": {
          "base_uri": "https://localhost:8080/"
        },
        "outputId": "2688c005-5d28-448a-e784-16c0734c2d02"
      },
      "execution_count": 54,
      "outputs": [
        {
          "output_type": "execute_result",
          "data": {
            "text/plain": [
              "5"
            ]
          },
          "metadata": {},
          "execution_count": 54
        }
      ]
    },
    {
      "cell_type": "code",
      "source": [
        "next(gen)"
      ],
      "metadata": {
        "id": "_cHmd1NpZS2K",
        "colab": {
          "base_uri": "https://localhost:8080/"
        },
        "outputId": "edf265dd-f12c-48d1-f58d-4d86e70b1328"
      },
      "execution_count": 55,
      "outputs": [
        {
          "output_type": "execute_result",
          "data": {
            "text/plain": [
              "6"
            ]
          },
          "metadata": {},
          "execution_count": 55
        }
      ]
    },
    {
      "cell_type": "code",
      "source": [
        "next(gen)"
      ],
      "metadata": {
        "id": "3FsCIOcBzd6H",
        "colab": {
          "base_uri": "https://localhost:8080/"
        },
        "outputId": "51b4f62f-0c1a-4970-a0c3-f2c30ef24f87"
      },
      "execution_count": 30,
      "outputs": [
        {
          "output_type": "execute_result",
          "data": {
            "text/plain": [
              "2"
            ]
          },
          "metadata": {},
          "execution_count": 30
        }
      ]
    },
    {
      "cell_type": "code",
      "source": [
        "next(gen)"
      ],
      "metadata": {
        "id": "Ru9J3mgdzgmw",
        "colab": {
          "base_uri": "https://localhost:8080/"
        },
        "outputId": "c3d5890d-de08-4577-ac3e-2b97879b3984"
      },
      "execution_count": 31,
      "outputs": [
        {
          "output_type": "execute_result",
          "data": {
            "text/plain": [
              "3"
            ]
          },
          "metadata": {},
          "execution_count": 31
        }
      ]
    },
    {
      "cell_type": "code",
      "source": [
        "def counter(maximum):\n",
        "    i = 0\n",
        "    while i < maximum:\n",
        "        val = (yield i)\n",
        "        # If value provided, change counter\n",
        "        if val is not None:\n",
        "            i = val\n",
        "        else:\n",
        "            i += 1\n",
        "\n",
        "\n",
        "\n",
        "it = counter(10)\n",
        "next(it)"
      ],
      "metadata": {
        "id": "gT8toLplZ-tj",
        "colab": {
          "base_uri": "https://localhost:8080/"
        },
        "outputId": "c7381908-d2b6-4f91-c8b6-acf57cdafd32"
      },
      "execution_count": 32,
      "outputs": [
        {
          "output_type": "execute_result",
          "data": {
            "text/plain": [
              "0"
            ]
          },
          "metadata": {},
          "execution_count": 32
        }
      ]
    },
    {
      "cell_type": "code",
      "source": [
        "next(it)"
      ],
      "metadata": {
        "id": "4Xp7viil0YQY",
        "colab": {
          "base_uri": "https://localhost:8080/"
        },
        "outputId": "05829909-7eb2-4a1e-c68c-4a647c6f4d04"
      },
      "execution_count": 33,
      "outputs": [
        {
          "output_type": "execute_result",
          "data": {
            "text/plain": [
              "1"
            ]
          },
          "metadata": {},
          "execution_count": 33
        }
      ]
    },
    {
      "cell_type": "code",
      "source": [
        "next(it)"
      ],
      "metadata": {
        "id": "RC9GcZCu1Xca",
        "colab": {
          "base_uri": "https://localhost:8080/"
        },
        "outputId": "5d93cc10-3655-4f47-edc5-5b305912274b"
      },
      "execution_count": 34,
      "outputs": [
        {
          "output_type": "execute_result",
          "data": {
            "text/plain": [
              "2"
            ]
          },
          "metadata": {},
          "execution_count": 34
        }
      ]
    },
    {
      "cell_type": "code",
      "source": [
        "next(it)"
      ],
      "metadata": {
        "id": "gobnO6triNsO",
        "colab": {
          "base_uri": "https://localhost:8080/"
        },
        "outputId": "2b484bc9-e68d-473e-dd6a-447dd16f42c0"
      },
      "execution_count": 35,
      "outputs": [
        {
          "output_type": "execute_result",
          "data": {
            "text/plain": [
              "3"
            ]
          },
          "metadata": {},
          "execution_count": 35
        }
      ]
    },
    {
      "cell_type": "code",
      "source": [
        "it.send(8)"
      ],
      "metadata": {
        "id": "r6CuccGa0ggH",
        "colab": {
          "base_uri": "https://localhost:8080/"
        },
        "outputId": "8effca2e-2b81-4fab-aa9d-46daa3bae5a0"
      },
      "execution_count": 36,
      "outputs": [
        {
          "output_type": "execute_result",
          "data": {
            "text/plain": [
              "8"
            ]
          },
          "metadata": {},
          "execution_count": 36
        }
      ]
    },
    {
      "cell_type": "code",
      "source": [
        "next(it)"
      ],
      "metadata": {
        "id": "QrsTqZU-0nFY",
        "colab": {
          "base_uri": "https://localhost:8080/"
        },
        "outputId": "25cd6655-e261-4d93-fef0-891a4ad5fff1"
      },
      "execution_count": 37,
      "outputs": [
        {
          "output_type": "execute_result",
          "data": {
            "text/plain": [
              "9"
            ]
          },
          "metadata": {},
          "execution_count": 37
        }
      ]
    },
    {
      "cell_type": "code",
      "source": [
        "def upper(s):\n",
        "  return s.upper()\n",
        "\n",
        "list(map(upper,['sentence', 'fragment']))"
      ],
      "metadata": {
        "id": "3QIYzspgbezS",
        "colab": {
          "base_uri": "https://localhost:8080/"
        },
        "outputId": "7423188a-0623-4f9a-8168-ac4a9c2f94ee"
      },
      "execution_count": 58,
      "outputs": [
        {
          "output_type": "execute_result",
          "data": {
            "text/plain": [
              "['SENTENCE', 'FRAGMENT']"
            ]
          },
          "metadata": {},
          "execution_count": 58
        }
      ]
    },
    {
      "cell_type": "code",
      "source": [
        "[upper(s) for s in ['sentence', 'fragment']]"
      ],
      "metadata": {
        "id": "1NLRtsWbckZ1",
        "colab": {
          "base_uri": "https://localhost:8080/"
        },
        "outputId": "fd90b292-c0fa-48bf-be45-2ab405e8da7c"
      },
      "execution_count": 59,
      "outputs": [
        {
          "output_type": "execute_result",
          "data": {
            "text/plain": [
              "['SENTENCE', 'FRAGMENT']"
            ]
          },
          "metadata": {},
          "execution_count": 59
        }
      ]
    },
    {
      "cell_type": "code",
      "source": [
        "def is_even(x):\n",
        "  return (x % 2) == 0\n",
        "\n",
        "i=is_even(3)\n",
        "print(i)\n",
        "list(filter(is_even, range(10)))"
      ],
      "metadata": {
        "id": "5nA60Lb4c-xN",
        "colab": {
          "base_uri": "https://localhost:8080/"
        },
        "outputId": "7c88af23-5d57-4a02-91d0-8f2ae1a151bd"
      },
      "execution_count": 41,
      "outputs": [
        {
          "output_type": "stream",
          "name": "stdout",
          "text": [
            "False\n"
          ]
        },
        {
          "output_type": "execute_result",
          "data": {
            "text/plain": [
              "[0, 2, 4, 6, 8]"
            ]
          },
          "metadata": {},
          "execution_count": 41
        }
      ]
    },
    {
      "cell_type": "code",
      "source": [
        "#List Comprehension\n",
        "list(x for x in range(10) if is_even(x))"
      ],
      "metadata": {
        "id": "u3uSPRMjddvc",
        "colab": {
          "base_uri": "https://localhost:8080/"
        },
        "outputId": "4f62d9ee-dfe8-41c4-c439-2b0627ea0509"
      },
      "execution_count": 42,
      "outputs": [
        {
          "output_type": "execute_result",
          "data": {
            "text/plain": [
              "[0, 2, 4, 6, 8]"
            ]
          },
          "metadata": {},
          "execution_count": 42
        }
      ]
    },
    {
      "cell_type": "code",
      "source": [
        "for item in enumerate(['A', 'B', 'C']):\n",
        "  print(item)\n"
      ],
      "metadata": {
        "id": "PA8d6YDmd_QY",
        "colab": {
          "base_uri": "https://localhost:8080/"
        },
        "outputId": "b11c8690-a56c-423e-8dcc-91afd6cd236f"
      },
      "execution_count": 43,
      "outputs": [
        {
          "output_type": "stream",
          "name": "stdout",
          "text": [
            "(0, 'A')\n",
            "(1, 'B')\n",
            "(2, 'C')\n"
          ]
        }
      ]
    },
    {
      "cell_type": "code",
      "source": [
        "import random\n",
        "# Generate 8 random numbers between [0, 10000)\n",
        "rand_list = random.sample(range(10000), 8)\n",
        "rand_list\n"
      ],
      "metadata": {
        "id": "Hf0nZutkeR1k",
        "colab": {
          "base_uri": "https://localhost:8080/"
        },
        "outputId": "611ba8a3-21eb-4555-eac2-a987fdc41635"
      },
      "execution_count": 44,
      "outputs": [
        {
          "output_type": "execute_result",
          "data": {
            "text/plain": [
              "[265, 5809, 7885, 8598, 3005, 8275, 4463, 4131]"
            ]
          },
          "metadata": {},
          "execution_count": 44
        }
      ]
    },
    {
      "cell_type": "code",
      "source": [
        "sorted(rand_list)"
      ],
      "metadata": {
        "id": "YDCkxFIVehN3",
        "colab": {
          "base_uri": "https://localhost:8080/"
        },
        "outputId": "7a40161d-d5dc-42f0-98f6-3f94a0e51eff"
      },
      "execution_count": 45,
      "outputs": [
        {
          "output_type": "execute_result",
          "data": {
            "text/plain": [
              "[265, 3005, 4131, 4463, 5809, 7885, 8275, 8598]"
            ]
          },
          "metadata": {},
          "execution_count": 45
        }
      ]
    },
    {
      "cell_type": "code",
      "source": [
        "sorted(rand_list, reverse=True)"
      ],
      "metadata": {
        "id": "dMXZk56uelLh",
        "colab": {
          "base_uri": "https://localhost:8080/"
        },
        "outputId": "14d9a0c8-271a-42c3-c2ce-7d1b99492813"
      },
      "execution_count": 46,
      "outputs": [
        {
          "output_type": "execute_result",
          "data": {
            "text/plain": [
              "[8598, 8275, 7885, 5809, 4463, 4131, 3005, 265]"
            ]
          },
          "metadata": {},
          "execution_count": 46
        }
      ]
    },
    {
      "cell_type": "code",
      "source": [
        "any([0, 0, 0])"
      ],
      "metadata": {
        "id": "AnkKxkSHevF8",
        "colab": {
          "base_uri": "https://localhost:8080/"
        },
        "outputId": "4ea322c5-4200-4f99-a0d9-37b2bed94bed"
      },
      "execution_count": 47,
      "outputs": [
        {
          "output_type": "execute_result",
          "data": {
            "text/plain": [
              "False"
            ]
          },
          "metadata": {},
          "execution_count": 47
        }
      ]
    },
    {
      "cell_type": "code",
      "source": [
        "all([1, 1, 1])"
      ],
      "metadata": {
        "id": "3nvfL6gXfG-i",
        "colab": {
          "base_uri": "https://localhost:8080/"
        },
        "outputId": "51f9a05e-4a4d-4907-a058-b81e2220d4e2"
      },
      "execution_count": 48,
      "outputs": [
        {
          "output_type": "execute_result",
          "data": {
            "text/plain": [
              "True"
            ]
          },
          "metadata": {},
          "execution_count": 48
        }
      ]
    },
    {
      "cell_type": "code",
      "source": [
        "zip(['a','b','c'], (1, 2, 3))"
      ],
      "metadata": {
        "id": "EoUOm0CLfZs6",
        "colab": {
          "base_uri": "https://localhost:8080/"
        },
        "outputId": "16590c80-efe8-4e4f-dcea-91f3a7d99bcc"
      },
      "execution_count": 49,
      "outputs": [
        {
          "output_type": "execute_result",
          "data": {
            "text/plain": [
              "<zip at 0x7e1402fa5140>"
            ]
          },
          "metadata": {},
          "execution_count": 49
        }
      ]
    },
    {
      "cell_type": "code",
      "source": [
        "zip(['a', 'b'], (1, 2, 3))"
      ],
      "metadata": {
        "id": "R8r8IuUBfulT",
        "colab": {
          "base_uri": "https://localhost:8080/"
        },
        "outputId": "62d7a33b-05ae-4268-d0f1-04ff25d8914f"
      },
      "execution_count": 50,
      "outputs": [
        {
          "output_type": "execute_result",
          "data": {
            "text/plain": [
              "<zip at 0x7e1402fa5680>"
            ]
          },
          "metadata": {},
          "execution_count": 50
        }
      ]
    }
  ]
}